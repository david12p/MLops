{
 "cells": [
  {
   "cell_type": "markdown",
   "metadata": {},
   "source": [
    "# ✍️ Exercise: Intro to MLFlow - Part I\n",
    "\n",
    "In this exercise, we will cover the basics of MLFlow. MLFlow is an open-source platform for the complete machine learning lifecycle. It is designed to work with any machine learning library and to be agnostic to the execution environment. It is also designed to be scalable and to support the complete machine learning lifecycle, including experimentation, reproducibility, and deployment.\n",
    "\n",
    "In this first part, we will cover the following topics:\n",
    "- How to Install MLFlow.\n",
    "- How to launch the MLFlow Server.\n",
    "- How to create a new MLFlow Experiment.\n",
    "- How to create a new MLFlow Run.\n",
    "- How to log parameters, metrics, and artifacts."
   ]
  },
  {
   "cell_type": "markdown",
   "metadata": {},
   "source": [
    "## How to Install MLFlow\n",
    "\n",
    "💡 Remember: We can simply install MLFlow **using pip** 🎉\n",
    "\n",
    "```bash\n",
    "pip install mlflow\n",
    "```\n",
    "\n",
    "## How to launch the MLFlow Server\n",
    "\n",
    "💡 Remember: After installing MLFlow, we can launch the MLFlow server using the following command **in the terminal**:\n",
    "\n",
    "```bash\n",
    "mlflow ui\n",
    "```\n",
    "\n",
    "You will see the following output:\n",
    "\n",
    "```bash\n",
    "[2024-02-21 23:29:52 +0100] [725738] [INFO] Starting gunicorn 21.2.0\n",
    "[2024-02-21 23:29:52 +0100] [725738] [INFO] Listening at: http://127.0.0.1:5000 (725738)\n",
    "[2024-02-21 23:29:52 +0100] [725738] [INFO] Using worker: sync\n",
    "[2024-02-21 23:29:52 +0100] [725739] [INFO] Booting worker with pid: 725739\n",
    "[2024-02-21 23:29:52 +0100] [725740] [INFO] Booting worker with pid: 725740\n",
    "[2024-02-21 23:29:53 +0100] [725741] [INFO] Booting worker with pid: 725741\n",
    "```\n",
    "\n",
    "👉 Then, we can **access the MLFlow UI by opening the following URL in a web browser**: http://localhost:5000.\n"
   ]
  },
  {
   "cell_type": "markdown",
   "metadata": {},
   "source": [
    "## Exercise I: Connecting to the MLFlow Server\n",
    "\n",
    "1. 👉 Connect to MLFlow using `mlflow.set_tracking_uri()` and set the URI to `http://localhost:5000`.\n",
    "2. 👉 Use `mlflow.search_experiments()` to list all the experiments."
   ]
  },
  {
   "cell_type": "code",
   "execution_count": 1,
   "metadata": {},
   "outputs": [],
   "source": [
    "import mlflow"
   ]
  },
  {
   "cell_type": "code",
   "execution_count": 2,
   "metadata": {},
   "outputs": [],
   "source": [
    "MLFLOW_TRACKING_URI = \"http://localhost:5000\"\n",
    "\n",
    "mlflow.set_tracking_uri(MLFLOW_TRACKING_URI)"
   ]
  },
  {
   "cell_type": "code",
   "execution_count": 4,
   "metadata": {},
   "outputs": [
    {
     "data": {
      "text/plain": [
       "[<Experiment: artifact_location='mlflow-artifacts:/502769869851350456', creation_time=1708627311311, experiment_id='502769869851350456', last_update_time=1708627311311, lifecycle_stage='active', name='my-new-experiment', tags={}>,\n",
       " <Experiment: artifact_location='mlflow-artifacts:/0', creation_time=1708625997721, experiment_id='0', last_update_time=1708627337762, lifecycle_stage='active', name='Default', tags={}>]"
      ]
     },
     "execution_count": 4,
     "metadata": {},
     "output_type": "execute_result"
    }
   ],
   "source": [
    "mlflow.search_experiments()"
   ]
  },
  {
   "cell_type": "markdown",
   "metadata": {},
   "source": [
    "## Exercise II: Creating a New MLFlow Experiment\n",
    "\n",
    "1. 👉 Create a new MLFlow Experiment using `mlflow.create_experiment()` and set the name to `intro-to-mlflow`.\n",
    "2. 👉 Check if the experiment was created by using `mlflow.get_experiment_by_name()`.\n",
    "3. 👉 Print the experiment ID."
   ]
  },
  {
   "cell_type": "code",
   "execution_count": 5,
   "metadata": {},
   "outputs": [
    {
     "data": {
      "text/plain": [
       "'235615464863364937'"
      ]
     },
     "execution_count": 5,
     "metadata": {},
     "output_type": "execute_result"
    }
   ],
   "source": [
    "mlflow.create_experiment(\"my-new-amazing-experiment\")"
   ]
  },
  {
   "cell_type": "code",
   "execution_count": 11,
   "metadata": {},
   "outputs": [],
   "source": [
    "experiment_id = mlflow.create_experiment(\"titanic-spaceship\")"
   ]
  },
  {
   "cell_type": "code",
   "execution_count": 14,
   "metadata": {},
   "outputs": [
    {
     "data": {
      "text/plain": [
       "'314553017118193479'"
      ]
     },
     "execution_count": 14,
     "metadata": {},
     "output_type": "execute_result"
    }
   ],
   "source": [
    "experiment_id"
   ]
  },
  {
   "cell_type": "code",
   "execution_count": 25,
   "metadata": {},
   "outputs": [],
   "source": [
    "experiment = mlflow.get_experiment_by_name(experiment_id)\n",
    "\n",
    "EXPERIMENT_NAME = \"titanic-spaceship\""
   ]
  },
  {
   "cell_type": "markdown",
   "metadata": {},
   "source": [
    "## Exercise III: Creating a New MLFlow Run\n",
    "\n",
    "1. 👉 Create a new MLFlow Run using `mlflow.start_run()` and set the experiment_id to the ID of the `intro-to-mlflow` experiment.\n",
    "2. 👉 Check if the run was created by using `run.info.run_id`.\n",
    "3. 👉 Print the run_id."
   ]
  },
  {
   "cell_type": "code",
   "execution_count": 30,
   "metadata": {},
   "outputs": [],
   "source": [
    "EXPERIMENT_NAME = \"titanic-spaceship\"\n",
    "\n",
    "experiment = mlflow.get_experiment_by_name(EXPERIMENT_NAME)\n",
    "\n",
    "experiment.experiment_id\n",
    "\n",
    "with mlflow.start_run(experiment_id=experiment.experiment_id) as run:\n",
    "    pass"
   ]
  },
  {
   "cell_type": "markdown",
   "metadata": {},
   "source": [
    "## Exercise IV: Logging Tags, Parameters and Metrics\n",
    "\n",
    "Imagine you have the following information about the run:\n",
    "\n",
    "- model_type: \"RandomForest\"\n",
    "- accuracy: 0.85\n",
    "- max_depth: 10\n",
    "- precision: 0.90\n",
    "- learning_rate: 0.01\n",
    "- recall: 0.80\n",
    "\n",
    "1. 👉 Think. What should you log as a tag, parameter, and metric?\n",
    "2. 👉 Create a new MLFlow Run using `mlflow.start_run()` and set the experiment_id to the ID of the `intro-to-mlflow` experiment.\n",
    "3. 👉 Log the tags using `mlflow.set_tags()`.\n",
    "4. 👉 Log the parameters using `mlflow.log_param()`.\n",
    "5. 👉 Log the metrics using `mlflow.log_metric()`."
   ]
  },
  {
   "cell_type": "code",
   "execution_count": 37,
   "metadata": {},
   "outputs": [],
   "source": [
    "import mlflow\n",
    "\n",
    "EXPERIMENT_NAME = \"titanic-spaceship\"\n",
    "RUN_NAME = \"run1\"\n",
    "\n",
    "experiment_id = mlflow.get_experiment_by_name(EXPERIMENT_NAME).experiment_id\n",
    "\n",
    "with mlflow.start_run(\n",
    "    experiment_id=experiment_id,\n",
    "    run_name=RUN_NAME,\n",
    ") as run:\n",
    "    \n",
    "    mlflow.set_tags({\n",
    "        \"model_type\": \"RandomForest\",\n",
    "    })\n",
    "\n",
    "\n",
    "    mlflow.log_param(\"max_depth\", 10)\n",
    "    mlflow.log_param(\"learning_rate\", 0.01)\n",
    "\n",
    "\n",
    "    mlflow.log_metric(\"accuracy\", 0.85)\n",
    "    mlflow.log_metric(\"precision\", 0.9)\n",
    "    mlflow.log_metric(\"recall\", 0.8)\n",
    "\n"
   ]
  }
 ],
 "metadata": {
  "kernelspec": {
   "display_name": "Python 3 (ipykernel)",
   "language": "python",
   "name": "python3"
  },
  "language_info": {
   "codemirror_mode": {
    "name": "ipython",
    "version": 3
   },
   "file_extension": ".py",
   "mimetype": "text/x-python",
   "name": "python",
   "nbconvert_exporter": "python",
   "pygments_lexer": "ipython3",
   "version": "3.10.13"
  }
 },
 "nbformat": 4,
 "nbformat_minor": 2
}
